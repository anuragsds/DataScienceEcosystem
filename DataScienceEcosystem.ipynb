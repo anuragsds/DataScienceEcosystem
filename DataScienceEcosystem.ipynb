{
 "cells": [
  {
   "cell_type": "markdown",
   "id": "c6268724-ec86-48e4-8da7-018990032238",
   "metadata": {},
   "source": [
    "# Data Science Tools and Ecosystem"
   ]
  },
  {
   "cell_type": "markdown",
   "id": "e73452cd-40b5-423b-9889-29786b640cfd",
   "metadata": {
    "tags": []
   },
   "source": [
    "# In this notebook, Data Science Tools and Ecosystem are summarized."
   ]
  },
  {
   "cell_type": "markdown",
   "id": "f1c30e9b-93d2-4423-b290-6a2b578f1a91",
   "metadata": {
    "tags": []
   },
   "source": [
    "### **Objective**\n",
    "- Some great languages used are python,R and Julia\n",
    "- There are some great libraries like NumPy , Pandas and Matplotlib that can be used to undertake specific tasks\n",
    "- Apache spark is a great open source tool for data scientists"
   ]
  },
  {
   "cell_type": "markdown",
   "id": "ca88ffa3-e17c-4245-b5f1-2c12de0ba797",
   "metadata": {},
   "source": [
    "# Some of the popular languages that Data Scientists use are\n",
    "1. Python\n",
    "2. R\n",
    "3. Julia"
   ]
  },
  {
   "cell_type": "markdown",
   "id": "972ffe3a-8688-4887-af06-bef3b6df3f90",
   "metadata": {},
   "source": [
    "# Common Data Science Libraries are listed below\n",
    " a. NumPy\n",
    " b. Pandas\n",
    " c. Matplotlib"
   ]
  },
  {
   "cell_type": "markdown",
   "id": "26470a9b-d62f-4a68-bc6c-9107167f94f0",
   "metadata": {},
   "source": [
    "# List of Data Science tools (open source)\n",
    "|DS tools|\n",
    "|---------|\n",
    "|Apache Spark|\n",
    "|Tensor Flow|\n",
    "|Rstudio|"
   ]
  },
  {
   "cell_type": "markdown",
   "id": "1c5d6519-5249-46a5-a6ad-6aa8fe11ab25",
   "metadata": {},
   "source": [
    "### Below are a few examples of evaluating arithmetic expressions in Python.\n",
    "1. print(a+b)\n",
    "2. print(a-b)\n",
    "3. print(a*b)\n",
    "\n",
    "### note - we will have to define variables i.e. a,b,c before running print command"
   ]
  },
  {
   "cell_type": "markdown",
   "id": "b6c7e7d0-50be-4ce2-abaa-2f44af02c868",
   "metadata": {
    "jupyter": {
     "outputs_hidden": true
    },
    "tags": []
   },
   "source": [
    "### Below is an example of simlpe arithematic operation where there is a multiplication and the addition of two integers\n"
   ]
  },
  {
   "cell_type": "code",
   "execution_count": 5,
   "id": "927012be-d4ad-42a3-a66e-d46007897ef3",
   "metadata": {
    "tags": []
   },
   "outputs": [
    {
     "name": "stdout",
     "output_type": "stream",
     "text": [
      "17\n"
     ]
    }
   ],
   "source": [
    "a = 3\n",
    "b = 4\n",
    "c = 5\n",
    "\n",
    "print ((a*b)+c)"
   ]
  },
  {
   "cell_type": "markdown",
   "id": "6e0691bb-86d4-4f67-8996-6a6749b24877",
   "metadata": {},
   "source": [
    "### Below function will convert hours into minutes by dividing it by 60"
   ]
  },
  {
   "cell_type": "code",
   "execution_count": 6,
   "id": "12801c38-b4c4-4169-a831-051096abe34b",
   "metadata": {
    "tags": []
   },
   "outputs": [
    {
     "name": "stdout",
     "output_type": "stream",
     "text": [
      "3.3333333333333335\n"
     ]
    }
   ],
   "source": [
    "a = 200\n",
    "b = 60\n",
    "print(a/b)"
   ]
  },
  {
   "cell_type": "markdown",
   "id": "0c01bbcc-0531-44c7-88f4-95625fb6f2ab",
   "metadata": {},
   "source": [
    "## Author\n",
    "Anurag Sharma"
   ]
  },
  {
   "cell_type": "code",
   "execution_count": null,
   "id": "7895e0a8-6e31-44c6-b096-b03ccb08b5b0",
   "metadata": {},
   "outputs": [],
   "source": []
  }
 ],
 "metadata": {
  "kernelspec": {
   "display_name": "Python",
   "language": "python",
   "name": "conda-env-python-py"
  },
  "language_info": {
   "codemirror_mode": {
    "name": "ipython",
    "version": 3
   },
   "file_extension": ".py",
   "mimetype": "text/x-python",
   "name": "python",
   "nbconvert_exporter": "python",
   "pygments_lexer": "ipython3",
   "version": "3.7.12"
  }
 },
 "nbformat": 4,
 "nbformat_minor": 5
}
